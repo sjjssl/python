{
 "cells": [
  {
   "cell_type": "code",
   "execution_count": 43,
   "id": "d0e4582a",
   "metadata": {},
   "outputs": [],
   "source": [
    "def gcd(m,n):\n",
    "    while m%n!=0:\n",
    "        oldm=m\n",
    "        oldn=n\n",
    "        m=oldn\n",
    "        n=oldm%oldn\n",
    "    return n\n",
    "class Fraction:\n",
    "    def __init__(self,top,bottom):\n",
    "        self.num=top\n",
    "        self.den=bottom\n",
    "    def show(self):\n",
    "        print(self.num,'/',self.den)\n",
    "    def __str__(self):\n",
    "        return str(self.num)+'/'+str(self.den)\n",
    "    def __add__(self,other):\n",
    "        newnum=self.den*other.num+self.num*other.den\n",
    "        newden=self.den*other.den\n",
    "        common=gcd(newnum,newden)\n",
    "        return Fraction(newnum//common,newden//common)\n",
    "    def __eq__(self,other):\n",
    "        fnum=self.num*other.den\n",
    "        snum=self.den*other.num\n",
    "        return fnum==snum\n",
    "    def __sub__(self,other):\n",
    "        newnum=self.num*other.den-self.den*other.num\n",
    "        newden=self.den*other.den\n",
    "        common=gcd(newnum,newden)\n",
    "        return Fraction(newnum//common,newden//common)\n",
    "    def __mul__(self,other):\n",
    "        newnum=self.num*other.num\n",
    "        newden=self.den*other.den\n",
    "        common=gcd(newnum,newden)\n",
    "        return Fraction(newnum//common,newden//common)\n",
    "    def __div__(self,other):\n",
    "        if other.num==0:\n",
    "            print('denominator can not be 0!')\n",
    "        else:\n",
    "            newnum=self.num*other.den\n",
    "            newden=self.den*other.num\n",
    "            common=gcd(newnum,newden)\n",
    "            if newnum==0:\n",
    "                return 0\n",
    "            return Fraction(newnum//common,newden//common)"
   ]
  },
  {
   "cell_type": "code",
   "execution_count": 44,
   "id": "a63c38eb",
   "metadata": {},
   "outputs": [
    {
     "name": "stdout",
     "output_type": "stream",
     "text": [
      "denominator can not be 0!\n"
     ]
    },
    {
     "data": {
      "text/plain": [
       "'None'"
      ]
     },
     "execution_count": 44,
     "metadata": {},
     "output_type": "execute_result"
    }
   ],
   "source": [
    "myf=Fraction(0,8)\n",
    "myf2=Fraction(0,2)\n",
    "str(myf.__div__(myf2))\n"
   ]
  },
  {
   "cell_type": "code",
   "execution_count": null,
   "id": "441d32c4",
   "metadata": {},
   "outputs": [],
   "source": []
  }
 ],
 "metadata": {
  "kernelspec": {
   "display_name": "Python 3 (ipykernel)",
   "language": "python",
   "name": "python3"
  },
  "language_info": {
   "codemirror_mode": {
    "name": "ipython",
    "version": 3
   },
   "file_extension": ".py",
   "mimetype": "text/x-python",
   "name": "python",
   "nbconvert_exporter": "python",
   "pygments_lexer": "ipython3",
   "version": "3.9.7"
  }
 },
 "nbformat": 4,
 "nbformat_minor": 5
}
