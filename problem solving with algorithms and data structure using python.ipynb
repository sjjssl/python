{
 "cells": [
  {
   "cell_type": "code",
   "execution_count": 43,
   "id": "a893d83d",
   "metadata": {},
   "outputs": [],
   "source": [
    "def gcd(m,n):\n",
    "    while m%n!=0:\n",
    "        oldm=m\n",
    "        oldn=n\n",
    "        m=oldn\n",
    "        n=oldm%oldn\n",
    "    return n\n",
    "class Fraction:\n",
    "    def __init__(self,top,bottom):\n",
    "        self.num=top\n",
    "        self.den=bottom\n",
    "    def show(self):\n",
    "        print(self.num,'/',self.den)\n",
    "    def __str__(self):\n",
    "        return str(self.num)+'/'+str(self.den)\n",
    "    def __add__(self,other):\n",
    "        newnum=self.den*other.num+self.num*other.den\n",
    "        newden=self.den*other.den\n",
    "        common=gcd(newnum,newden)\n",
    "        return Fraction(newnum//common,newden//common)\n",
    "    def __eq__(self,other):\n",
    "        fnum=self.num*other.den\n",
    "        snum=self.den*other.num\n",
    "        return fnum==snum\n",
    "    def __sub__(self,other):\n",
    "        newnum=self.num*other.den-self.den*other.num\n",
    "        newden=self.den*other.den\n",
    "        common=gcd(newnum,newden)\n",
    "        return Fraction(newnum//common,newden//common)\n",
    "    def __mul__(self,other):\n",
    "        newnum=self.num*other.num\n",
    "        newden=self.den*other.den\n",
    "        common=gcd(newnum,newden)\n",
    "        return Fraction(newnum//common,newden//common)\n",
    "    def __div__(self,other):\n",
    "        if other.num==0:\n",
    "            print('denominator can not be 0!')\n",
    "        else:\n",
    "            newnum=self.num*other.den\n",
    "            newden=self.den*other.num\n",
    "            common=gcd(newnum,newden)\n",
    "            if newnum==0:\n",
    "                return 0\n",
    "            return Fraction(newnum//common,newden//common)"
   ]
  },
  {
   "cell_type": "code",
   "execution_count": 28,
   "id": "9e8e2713",
   "metadata": {},
   "outputs": [],
   "source": [
    "def test1():\n",
    "    l=[]\n",
    "    for i in range(10000):\n",
    "        l=l+[i]\n",
    "    return l\n",
    "def test2():\n",
    "    l=[]\n",
    "    for i in range(10000):\n",
    "        l.append(i)\n",
    "    return l\n",
    "def test3():\n",
    "    return [i for i in range(10000)]\n",
    "def test4():\n",
    "    return list(range(10000))"
   ]
  },
  {
   "cell_type": "code",
   "execution_count": 29,
   "id": "85c93a58",
   "metadata": {},
   "outputs": [
    {
     "name": "stdout",
     "output_type": "stream",
     "text": [
      "0.08587956428527832\n",
      "0.001001119613647461\n",
      "0.0\n",
      "0.0010008811950683594\n"
     ]
    }
   ],
   "source": [
    "import time\n",
    "start=time.time()\n",
    "test1()\n",
    "end=time.time()\n",
    "print(end-start)\n",
    "start=time.time()\n",
    "test2()\n",
    "end=time.time()\n",
    "print(end-start)\n",
    "start=time.time()\n",
    "test3()\n",
    "end=time.time()\n",
    "print(end-start)\n",
    "start=time.time()\n",
    "test4()\n",
    "end=time.time()\n",
    "print(end-start)"
   ]
  },
  {
   "cell_type": "code",
   "execution_count": 30,
   "id": "5d2bf2a0",
   "metadata": {},
   "outputs": [
    {
     "name": "stdout",
     "output_type": "stream",
     "text": [
      "concat  78.31636389999994 milliseconds\n",
      "append  0.4586890000000494 milliseconds\n",
      "comprehension  0.21934959999998682 milliseconds\n",
      "list range  0.0833936999999878 milliseconds\n"
     ]
    }
   ],
   "source": [
    "import timeit\n",
    "print('concat ',timeit.timeit(number=1000,stmt='test1()',setup='from __main__ import test1'),'milliseconds')\n",
    "print('append ',timeit.timeit(number=1000,stmt='test2()',setup='from __main__ import test2'),'milliseconds')\n",
    "print('comprehension ',timeit.timeit(number=1000,stmt='test3()',setup='from __main__ import test3'),'milliseconds')\n",
    "print('list range ',timeit.timeit(number=1000,stmt='test4()',setup='from __main__ import test4'),'milliseconds')"
   ]
  },
  {
   "cell_type": "code",
   "execution_count": null,
   "id": "64ca816f",
   "metadata": {},
   "outputs": [
    {
     "name": "stdout",
     "output_type": "stream",
     "text": [
      "        0.00004,        0.56286\n",
      "        0.00004,        1.14477\n",
      "        0.00004,        1.68875\n",
      "        0.00004,        2.26623\n",
      "        0.00004,        2.81804\n"
     ]
    }
   ],
   "source": [
    "import matplotlib.pyplot as plt\n",
    "for i in range(1000000,10000001,1000000):\n",
    "    x=list(range(i))\n",
    "    pe=timeit.timeit(number=1000,stmt='x.pop()',setup='from __main__ import x')\n",
    "    pz=timeit.timeit(number=1000,stmt='x.pop(0)',setup='from __main__ import x')\n",
    "    print('%15.5f,%15.5f' %(pe,pz))"
   ]
  },
  {
   "cell_type": "code",
   "execution_count": null,
   "id": "695f00be",
   "metadata": {},
   "outputs": [],
   "source": [
    "\n"
   ]
  }
 ],
 "metadata": {
  "kernelspec": {
   "display_name": "Python 3 (ipykernel)",
   "language": "python",
   "name": "python3"
  },
  "language_info": {
   "codemirror_mode": {
    "name": "ipython",
    "version": 3
   },
   "file_extension": ".py",
   "mimetype": "text/x-python",
   "name": "python",
   "nbconvert_exporter": "python",
   "pygments_lexer": "ipython3",
   "version": "3.9.7"
  }
 },
 "nbformat": 4,
 "nbformat_minor": 5
}
