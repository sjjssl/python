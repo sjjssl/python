{
 "cells": [
  {
   "cell_type": "code",
   "execution_count": 1,
   "id": "d341685b",
   "metadata": {},
   "outputs": [
    {
     "name": "stdout",
     "output_type": "stream",
     "text": [
      "Hello World!\n"
     ]
    }
   ],
   "source": [
    "print(\"Hello World!\")"
   ]
  },
  {
   "cell_type": "markdown",
   "id": "a951be43",
   "metadata": {},
   "source": [
    "Below is how we calculate the number of seconds in a leap year."
   ]
  },
  {
   "cell_type": "code",
   "execution_count": 2,
   "id": "89078fa4",
   "metadata": {},
   "outputs": [
    {
     "data": {
      "text/plain": [
       "31622400"
      ]
     },
     "execution_count": 2,
     "metadata": {},
     "output_type": "execute_result"
    }
   ],
   "source": [
    "60*60*24*366"
   ]
  },
  {
   "cell_type": "code",
   "execution_count": 3,
   "id": "df430b52",
   "metadata": {},
   "outputs": [
    {
     "data": {
      "text/plain": [
       "31.6224"
      ]
     },
     "execution_count": 3,
     "metadata": {},
     "output_type": "execute_result"
    }
   ],
   "source": [
    "_/ 1e6"
   ]
  },
  {
   "cell_type": "code",
   "execution_count": 4,
   "id": "eb0fb7ee",
   "metadata": {},
   "outputs": [
    {
     "data": {
      "text/plain": [
       "31536000"
      ]
     },
     "execution_count": 4,
     "metadata": {},
     "output_type": "execute_result"
    }
   ],
   "source": [
    "60*60*24*365"
   ]
  },
  {
   "cell_type": "code",
   "execution_count": 5,
   "id": "b9605708",
   "metadata": {},
   "outputs": [
    {
     "data": {
      "text/plain": [
       "31.536"
      ]
     },
     "execution_count": 5,
     "metadata": {},
     "output_type": "execute_result"
    }
   ],
   "source": [
    "_/ 1e6"
   ]
  },
  {
   "cell_type": "code",
   "execution_count": 6,
   "id": "e667893e",
   "metadata": {},
   "outputs": [
    {
     "name": "stdout",
     "output_type": "stream",
     "text": [
      "7\n"
     ]
    }
   ],
   "source": [
    "x=4+3\n",
    "print(x)"
   ]
  },
  {
   "cell_type": "markdown",
   "id": "b74c6a3f",
   "metadata": {},
   "source": [
    "# This is a markdown cell.\n",
    "\n",
    "##  This is heading 2.\n",
    "\n",
    "###  This is heading 3.\n",
    "Hi!\n",
    "\n",
    "* Tne fish\n",
    "* Two fish\n",
    "* Red fish\n",
    "* Blue fish\n",
    "\n",
    "This is a sentence in Markdown, containing 'code',**bold text** and *italics*.  \n",
    "\n",
    "**example text**  \n",
    "*example text*  \n",
    "http://www.google.com"
   ]
  },
  {
   "cell_type": "markdown",
   "id": "c1cdd86a",
   "metadata": {},
   "source": [
    "This is a **Latex** equation:  \n",
    "$\\int_0^\\infty x^{-\\alpha}$"
   ]
  },
  {
   "cell_type": "code",
   "execution_count": 7,
   "id": "f580fb1f",
   "metadata": {},
   "outputs": [
    {
     "data": {
      "text/plain": [
       "[<matplotlib.lines.Line2D at 0x267bf7a85b0>]"
      ]
     },
     "execution_count": 7,
     "metadata": {},
     "output_type": "execute_result"
    },
    {
     "data": {
      "image/png": "[encoded data removed]",
      "text/plain": [
       "<Figure size 432x288 with 1 Axes>"
      ]
     },
     "metadata": {
      "needs_background": "light"
     },
     "output_type": "display_data"
    }
   ],
   "source": [
    "%matplotlib inline\n",
    "from matplotlib.pyplot import plot\n",
    "plot([0,1,0,1])"
   ]
  },
  {
   "cell_type": "markdown",
   "id": "4a253f49",
   "metadata": {},
   "source": [
    "This is a plot using matplotlib of a vector."
   ]
  },
  {
   "cell_type": "code",
   "execution_count": null,
   "id": "0ee2b6ff",
   "metadata": {},
   "outputs": [],
   "source": []
  }
 ],
 "metadata": {
  "kernelspec": {
   "display_name": "Python 3 (ipykernel)",
   "language": "python",
   "name": "python3"
  },
  "language_info": {
   "codemirror_mode": {
    "name": "ipython",
    "version": 3
   },
   "file_extension": ".py",
   "mimetype": "text/x-python",
   "name": "python",
   "nbconvert_exporter": "python",
   "pygments_lexer": "ipython3",
   "version": "3.9.7"
  }
 },
 "nbformat": 4,
 "nbformat_minor": 5
}
